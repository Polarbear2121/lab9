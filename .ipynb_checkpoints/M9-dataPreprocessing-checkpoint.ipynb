{
 "cells": [
  {
   "cell_type": "markdown",
   "metadata": {},
   "source": [
    "# Module 9 Data Preprocessing - Practice Exercise\n",
    "\n",
    "\n",
    "The first rule in preprocessing is: **know your data!**\n",
    "\n",
    "Therefore, you are going to explore your data over several dimensions and views to bring your raw data to a state of processed data, ready to be used for your model.\n",
    "\n",
    "The **TBLF** approach is suggested:\n",
    "+ **Try:** Explore the problem (in this case, explore your data)\n",
    "+ **Broken?:** What is broken? (Do you see something wrong in your data)\n",
    "+ **Learn:** Why is it wrong? (What is wrong with this data? How can you solve it?)\n",
    "+ **Fix:** Fix the problem (What can I do to bring the wrong data to an acceptable solution?)"
   ]
  },
  {
   "cell_type": "markdown",
   "metadata": {},
   "source": [
    "## Business scenario\n",
    "You are in charge of preprocessing the data your company wants to use in a new machine learning model. The model will be used to predict average influence of a journal, based on journal/publishing information coming from a variety of sources, including researchers, web scraping, and the publishers themselves.\n",
    "\n",
    "You've received raw data related to the business problem to solve. Your task is to better understand the data using some descriptive statistics. Once you understand the data, you will clean and reshape it. You will use the final processed dataset in your model. "
   ]
  },
  {
   "cell_type": "markdown",
   "metadata": {},
   "source": [
    "## Learning objectives\n",
    "1. Understand a business scenario and corresponding dataset by analyzing the data using descriptive statistics\n",
    "2. Use visualization tools to support this analysis: \n",
    "    - Scatter plots to spot correlations between features \n",
    "    - Box and whisker plots and histograms to understand the distribution of your data\n",
    "3. Use statistics tools to support previous analysis, such as a correlation matrix to quantify those relationships\n",
    "4. Based on the analysis conclusions, prepare a processed dataset for the model by:\n",
    "    - Dealing with outliers \n",
    "    - Dealing with missing values\n",
    "    - Cleaning the data"
   ]
  },
  {
   "cell_type": "code",
   "execution_count": 1,
   "metadata": {},
   "outputs": [
    {
     "name": "stderr",
     "output_type": "stream",
     "text": [
      "/home/ec2-user/anaconda3/envs/python3/lib/python3.6/site-packages/ipykernel/__main__.py:6: FutureWarning: Passing a negative integer is deprecated in version 1.0 and will not be supported in future version. Instead, use None to not limit the column width.\n"
     ]
    }
   ],
   "source": [
    "import pandas as pd\n",
    "import numpy as np\n",
    "from matplotlib import pyplot as plt\n",
    "import seaborn as sns\n",
    "%matplotlib inline\n",
    "pd.set_option('display.max_colwidth', -1)"
   ]
  },
  {
   "cell_type": "markdown",
   "metadata": {},
   "source": [
    "## Dataset \n",
    "The data comes from a variety of sources, including researchers, web scraping, and the publishers themselves. The data has been manipulated to be suited for this preprocessing task."
   ]
  },
  {
   "cell_type": "markdown",
   "metadata": {},
   "source": [
    "## Data schema\n",
    "A dataset on journal/publisher information with estimated-article-influence-scores:\n",
    "+ journal_name: Name of the journal\n",
    "+ issn: Unique publication code\n",
    "+ citation_count_sum: Sum of the number of citations for each journal \n",
    "+ paper_count_sum: Sum of the number of papers for each journal\n",
    "+ avg_cites_per_paper: Average number of citations per paper\n",
    "+ ranking: Artificial label created for the exercise (possible values: A, B, C, D)\n",
    "+ proj_ai: Projected average influence"
   ]
  },
  {
   "cell_type": "markdown",
   "metadata": {},
   "source": [
    "Start by loading the file. File provided in the module. "
   ]
  },
  {
   "cell_type": "code",
   "execution_count": 2,
   "metadata": {},
   "outputs": [],
   "source": [
    "df_journals = pd.read_csv(\"estimated-article-influence-scores-Exerc2.csv\", sep=\";\")\n",
    "del df_journals[\"Unnamed: 0\"]"
   ]
  },
  {
   "cell_type": "markdown",
   "metadata": {},
   "source": [
    "## First glance at your data\n",
    "\n",
    "#### Learn\n",
    "How many features do you have? Print out the shape of your data.   \n",
    "Hint: Print df_journals.shape[1]"
   ]
  },
  {
   "cell_type": "code",
   "execution_count": 3,
   "metadata": {},
   "outputs": [
    {
     "data": {
      "text/plain": [
       "7"
      ]
     },
     "execution_count": 3,
     "metadata": {},
     "output_type": "execute_result"
    }
   ],
   "source": [
    "df_journals.shape[1]"
   ]
  },
  {
   "cell_type": "markdown",
   "metadata": {},
   "source": [
    "How many samples do you have?  \n",
    "Hint: Print df_journals.shape[0]"
   ]
  },
  {
   "cell_type": "code",
   "execution_count": 4,
   "metadata": {},
   "outputs": [
    {
     "data": {
      "text/plain": [
       "3615"
      ]
     },
     "execution_count": 4,
     "metadata": {},
     "output_type": "execute_result"
    }
   ],
   "source": [
    "df_journals.shape[0]"
   ]
  },
  {
   "cell_type": "markdown",
   "metadata": {},
   "source": [
    "> ### Question 1\n",
    "> #### Try\n",
    "> Print the first 10 rows to see what the data looks like. Apply the `head` function ([documentation](https://pandas.pydata.org/pandas-docs/stable/reference/api/pandas.DataFrame.head.html?highlight=head#pandas.DataFrame.head)) to your dataset."
   ]
  },
  {
   "cell_type": "code",
   "execution_count": 5,
   "metadata": {},
   "outputs": [
    {
     "name": "stdout",
     "output_type": "stream",
     "text": [
      "        issn                         journal_name  citation_count_sum  \\\n",
      "0  2092-6731  3d research                          151.0                \n",
      "1  1530-9932  aaps pharmscitech                    2208.0               \n",
      "2  1687-0409  abstract and applied analysis        3005.0               \n",
      "3  1545-7230  academic psychiatry                  537.0                \n",
      "4  1936-4709  academic questions                   40.0                 \n",
      "5  1432-0517  accreditation and quality assurance  255.0                \n",
      "6  1839-2571  acoustics australia                  30.0                 \n",
      "7  2199-6067  acrocephalus                         9.0                  \n",
      "8  1846-0453  acta adriatica                       28.0                 \n",
      "9  1854-1941  acta agriculturae slovenica          71.0                 \n",
      "\n",
      "   paper_count_sum  avg_cites_per_paper ranking  proj_ai  \n",
      "0  106.0            1.424528             D       0.290    \n",
      "1  801.0            2.756554             D       0.665    \n",
      "2  2923.0           1.028053             B       0.192    \n",
      "3  490.0            1.095918             NaN     0.208    \n",
      "4  67.0             0.597015             A       0.097    \n",
      "5  331.0            0.770393             A       0.134    \n",
      "6  25.0             1.200000             D       0.234    \n",
      "7  15.0             0.600000             C       0.098    \n",
      "8  37.0             0.756757             NaN     0.131    \n",
      "9  97.0             0.731959             C       0.125    \n"
     ]
    }
   ],
   "source": [
    "print (df_journals.head(10))"
   ]
  },
  {
   "cell_type": "markdown",
   "metadata": {},
   "source": [
    "## Dealing with missing values\n",
    "#### Learn\n",
    "Check how many values are missing for each column."
   ]
  },
  {
   "cell_type": "markdown",
   "metadata": {},
   "source": [
    "The **isnull()** command returns **True** for each cell of the dataset that is missing a value.  \n",
    "Use head() to list the first 10"
   ]
  },
  {
   "cell_type": "code",
   "execution_count": 9,
   "metadata": {},
   "outputs": [
    {
     "name": "stdout",
     "output_type": "stream",
     "text": [
      "    issn  journal_name  citation_count_sum  paper_count_sum  \\\n",
      "0  False  False         False               False             \n",
      "1  False  False         False               False             \n",
      "2  False  False         False               False             \n",
      "3  False  False         False               False             \n",
      "4  False  False         False               False             \n",
      "5  False  False         False               False             \n",
      "6  False  False         False               False             \n",
      "7  False  False         False               False             \n",
      "8  False  False         False               False             \n",
      "9  False  False         False               False             \n",
      "\n",
      "   avg_cites_per_paper  ranking  proj_ai  \n",
      "0  False                False    False    \n",
      "1  False                False    False    \n",
      "2  False                False    False    \n",
      "3  False                True     False    \n",
      "4  False                False    False    \n",
      "5  False                False    False    \n",
      "6  False                False    False    \n",
      "7  False                False    False    \n",
      "8  False                True     False    \n",
      "9  False                False    False    \n"
     ]
    }
   ],
   "source": [
    "print (df_journals.head(10).isnull())"
   ]
  },
  {
   "cell_type": "markdown",
   "metadata": {},
   "source": [
    "#### Is it broken?\n",
    "This visualization is not practical for big datasets. You can try to sum all rows for each column. As all the values above are booleans, if you sum by column (feature), you will have the amount of **true** values--the number of missing values for each feature."
   ]
  },
  {
   "cell_type": "markdown",
   "metadata": {},
   "source": [
    "> ### Question 2\n",
    "> #### Fix\n",
    "> Apply the **.isnull()** function to your dataset as above, but concatenate the result with a **.sum()** function to show the number of missing values for each feature.<br/>\n",
    "\n",
    ">`isnull` ([documentation](https://pandas.pydata.org/pandas-docs/stable/reference/api/pandas.DataFrame.isnull.html?highlight=isnull#pandas.DataFrame.isnull))<br/>\n",
    ">`sum` ([documentation](https://pandas.pydata.org/pandas-docs/stable/reference/api/pandas.DataFrame.sum.html?highlight=sum#pandas.DataFrame.sum))"
   ]
  },
  {
   "cell_type": "code",
   "execution_count": 10,
   "metadata": {},
   "outputs": [
    {
     "name": "stdout",
     "output_type": "stream",
     "text": [
      "issn                   0\n",
      "journal_name           0\n",
      "citation_count_sum     0\n",
      "paper_count_sum        0\n",
      "avg_cites_per_paper    0\n",
      "ranking                2\n",
      "proj_ai                0\n",
      "dtype: int64\n"
     ]
    }
   ],
   "source": [
    "print (df_journals.head(10).isnull().sum())"
   ]
  },
  {
   "cell_type": "markdown",
   "metadata": {},
   "source": [
    "#### Learn\n",
    "You observed that there are missing values in the dataset."
   ]
  },
  {
   "cell_type": "markdown",
   "metadata": {},
   "source": [
    "Missing values are an important issue. Most models won't deal well with missing values.\n",
    "\n",
    "You can remove the missing values or impute values for them. Each choice has pros and cons, depending on the importance of the particular feature for your training job, if you can afford to remove those missing values, etc.\n",
    "\n",
    "The following command filters only the rows with `any` ([documentation](https://pandas.pydata.org/pandas-docs/stable/reference/api/pandas.DataFrame.any.html?highlight=any#pandas.DataFrame.any)) missing value. The first 10 rows display.  \n",
    "\n",
    "Hint: df_journals_null_data = df_journals[df_journals.isnull().any(axis=1)]  \n",
    "Now list the first 10 rows"
   ]
  },
  {
   "cell_type": "code",
   "execution_count": 16,
   "metadata": {},
   "outputs": [
    {
     "name": "stdout",
     "output_type": "stream",
     "text": [
      "         issn                           journal_name  citation_count_sum  \\\n",
      "3   1545-7230  academic psychiatry                    537.0                \n",
      "8   1846-0453  acta adriatica                         28.0                 \n",
      "18  1614-7065  acta chimica sinica                    619.0                \n",
      "25  1958-5454  acta endoscopica                       31.0                 \n",
      "38  0386-300X  acta medica okayama                    257.0                \n",
      "46  1745-3674  acta orthopaedica                      2364.0               \n",
      "60  0303-464X  acta reumatologica portuguesa          213.0                \n",
      "70  1940-0640  addiction science & clinical practice  294.0                \n",
      "91  1687-711X  advances in fuzzy systems              128.0                \n",
      "95  1687-7365  advances in high energy physics        791.0                \n",
      "\n",
      "    paper_count_sum  avg_cites_per_paper ranking  proj_ai  \n",
      "3   490.0            1.095918             NaN     0.208    \n",
      "8   37.0             0.756757             NaN     0.131    \n",
      "18  537.0            1.152700             NaN     0.222    \n",
      "25  70.0             0.442857             NaN     0.067    \n",
      "38  228.0            1.127193             NaN     0.216    \n",
      "46  611.0            3.869067             NaN     1.019    \n",
      "60  205.0            1.039024             NaN     0.195    \n",
      "70  133.0            2.210526             NaN     0.504    \n",
      "91  107.0            1.196262             NaN     0.233    \n",
      "95  373.0            2.120643             NaN     0.478    \n"
     ]
    }
   ],
   "source": [
    "df_journals_null_data = df_journals[df_journals.isnull().any(axis=1)]\n",
    "print(df_journals_null_data.head(10))"
   ]
  },
  {
   "cell_type": "markdown",
   "metadata": {},
   "source": [
    "## Dealing with missing values\n",
    "#### Fix\n",
    "Let's suppose you have decided to remove the rows with missing values.\n",
    "\n",
    "Remove the missing values by applying the `dropna` function ([documentation](https://pandas.pydata.org/pandas-docs/stable/reference/api/pandas.DataFrame.dropna.html?highlight=dropna#pandas.DataFrame.dropna)) to your dataset. Save the result in a new dataset named **df_journals_no_miss**. Use the `shape` function ([documentation](https://pandas.pydata.org/pandas-docs/stable/reference/api/pandas.DataFrame.shape.html?highlight=shape#pandas.DataFrame.shape)) after that to confirm that your dataset has fewer rows."
   ]
  },
  {
   "cell_type": "markdown",
   "metadata": {},
   "source": [
    "#### Learn\n",
    "How many rows are left? Use the shape function."
   ]
  },
  {
   "cell_type": "code",
   "execution_count": 34,
   "metadata": {},
   "outputs": [
    {
     "name": "stdout",
     "output_type": "stream",
     "text": [
      "3615\n",
      "2982\n"
     ]
    }
   ],
   "source": [
    "print(df_journals.shape[0])\n",
    "df_journals_no_miss = df_journals.dropna()\n",
    "df_journals = df_journals.dropna()\n",
    "print(df_journals_no_miss.shape[0])"
   ]
  },
  {
   "cell_type": "markdown",
   "metadata": {},
   "source": [
    "#### Learn\n",
    "Confirm that you have removed all missing values.\n",
    "Hint: Try .usna().any()"
   ]
  },
  {
   "cell_type": "code",
   "execution_count": 35,
   "metadata": {},
   "outputs": [
    {
     "data": {
      "text/plain": [
       "issn                   False\n",
       "journal_name           False\n",
       "citation_count_sum     False\n",
       "paper_count_sum        False\n",
       "avg_cites_per_paper    False\n",
       "ranking                False\n",
       "proj_ai                False\n",
       "dtype: bool"
      ]
     },
     "execution_count": 35,
     "metadata": {},
     "output_type": "execute_result"
    }
   ],
   "source": [
    "df_journals_no_miss.isnull().any()"
   ]
  },
  {
   "cell_type": "markdown",
   "metadata": {},
   "source": [
    "Now, suppose that you cannot afford to remove the rows with missing values. Maybe you don't want to reduce your already small dataset. "
   ]
  },
  {
   "cell_type": "markdown",
   "metadata": {},
   "source": [
    "## Imputing numerical values\n",
    "#### Learn\n",
    "One way to impute numerical values is to consider the mean of the feature (column) value. The following command calculates the mean of all numerical features in your dataset."
   ]
  },
  {
   "cell_type": "code",
   "execution_count": 36,
   "metadata": {},
   "outputs": [
    {
     "name": "stdout",
     "output_type": "stream",
     "text": [
      "citation_count_sum_MEAN: 1466.2089666316892\n",
      "paper_count_sum_MEAN: 510.21720693296606\n",
      "avg_cites_per_paper_MEAN: 2.1227039130345133\n",
      "proj_ai_MEAN: 0.5183777808864461\n"
     ]
    }
   ],
   "source": [
    "citation_count_sum_MEAN = df_journals[\"citation_count_sum\"].mean()\n",
    "paper_count_sum_MEAN = df_journals[\"paper_count_sum\"].mean()\n",
    "avg_cites_per_paper_MEAN = df_journals[\"avg_cites_per_paper\"].mean()\n",
    "proj_ai_MEAN = df_journals[\"proj_ai\"].mean()\n",
    "print(\"citation_count_sum_MEAN: {}\".format(citation_count_sum_MEAN))\n",
    "print(\"paper_count_sum_MEAN: {}\".format(paper_count_sum_MEAN))\n",
    "print(\"avg_cites_per_paper_MEAN: {}\".format(avg_cites_per_paper_MEAN))\n",
    "print(\"proj_ai_MEAN: {}\".format(proj_ai_MEAN))"
   ]
  },
  {
   "cell_type": "markdown",
   "metadata": {},
   "source": [
    "The following command updates each missing value with the calculated mean for the feature.\n",
    "\n",
    "**Note:** The `inplace` clause ([documentation](https://pandas.pydata.org/pandas-docs/stable/reference/api/pandas.DataFrame.fillna.html?highlight=fillna#pandas.DataFrame.fillna)) means that the update acts on the original dataset, so you don't need to attribute the result on a new dataset.\n",
    "\n",
    "Fill in missing variable values calculated above"
   ]
  },
  {
   "cell_type": "code",
   "execution_count": 38,
   "metadata": {},
   "outputs": [],
   "source": [
    "df_journals[\"citation_count_sum\"].fillna(citation_count_sum_MEAN , inplace=True)\n",
    "df_journals[\"paper_count_sum\"].fillna(paper_count_sum_MEAN, inplace=True)\n",
    "df_journals[\"avg_cites_per_paper\"].fillna(avg_cites_per_paper_MEAN, inplace=True)\n",
    "df_journals[\"proj_ai\"].fillna(proj_ai_MEAN, inplace=True)"
   ]
  },
  {
   "cell_type": "markdown",
   "metadata": {},
   "source": [
    "#### Learn\n",
    "Confirm that you have imputed for all of the numerical values. You will deal with categorical values next.  \n",
    "Hint: isna().any() on dataframe "
   ]
  },
  {
   "cell_type": "code",
   "execution_count": 39,
   "metadata": {},
   "outputs": [
    {
     "data": {
      "text/plain": [
       "issn                   False\n",
       "journal_name           False\n",
       "citation_count_sum     False\n",
       "paper_count_sum        False\n",
       "avg_cites_per_paper    False\n",
       "ranking                False\n",
       "proj_ai                False\n",
       "dtype: bool"
      ]
     },
     "execution_count": 39,
     "metadata": {},
     "output_type": "execute_result"
    }
   ],
   "source": [
    "df_journals.isna().any() "
   ]
  },
  {
   "cell_type": "markdown",
   "metadata": {},
   "source": [
    "## Imputing categorical values\n",
    "#### Learn\n",
    "For categorical value imputation, a common approach is to use the most frequent value (the mode)."
   ]
  },
  {
   "cell_type": "markdown",
   "metadata": {},
   "source": [
    "#### Try\n",
    "Check the possible values for the \"ranking\" feature.\n",
    "\n",
    "Pandas has an interesting command that prints the frequency for categoricals: `value_counts` ([documentation](https://pandas.pydata.org/pandas-docs/stable/reference/api/pandas.Series.value_counts.html?highlight=value_counts#pandas.Series.value_counts)).\n",
    "\n",
    "Apply this command to the feature in your dataset to see the categoricals distribution of \"ranking\".\n",
    "\n",
    "Hint: Use the value_counts command on the df_journals[\"ranking\"]  dataframe"
   ]
  },
  {
   "cell_type": "code",
   "execution_count": 40,
   "metadata": {},
   "outputs": [
    {
     "data": {
      "text/plain": [
       "D    1222\n",
       "B    590 \n",
       "A    589 \n",
       "C    581 \n",
       "Name: ranking, dtype: int64"
      ]
     },
     "execution_count": 40,
     "metadata": {},
     "output_type": "execute_result"
    }
   ],
   "source": [
    "df_journals[\"ranking\"].value_counts() "
   ]
  },
  {
   "cell_type": "markdown",
   "metadata": {},
   "source": [
    "Now, check for the most frequent value for the categorical feature. Use the `mode` function ([documentation](https://pandas.pydata.org/pandas-docs/stable/reference/api/pandas.DataFrame.mode.html?highlight=mode#pandas.DataFrame.mode)).\n",
    "\n",
    "**Note:** You can access the feature using `df_journals[\"ranking\"]` or `df_journals.ranking`.\n",
    "\n",
    "Hint: df_journals.ranking.mode()[0]"
   ]
  },
  {
   "cell_type": "code",
   "execution_count": 41,
   "metadata": {},
   "outputs": [
    {
     "data": {
      "text/plain": [
       "'D'"
      ]
     },
     "execution_count": 41,
     "metadata": {},
     "output_type": "execute_result"
    }
   ],
   "source": [
    "df_journals.ranking.mode()[0]"
   ]
  },
  {
   "cell_type": "markdown",
   "metadata": {},
   "source": [
    "#### Learn\n",
    "Now, run the following command to see if you have any null values left. You should only have **False** values now."
   ]
  },
  {
   "cell_type": "code",
   "execution_count": 42,
   "metadata": {},
   "outputs": [
    {
     "data": {
      "text/plain": [
       "issn                   False\n",
       "journal_name           False\n",
       "citation_count_sum     False\n",
       "paper_count_sum        False\n",
       "avg_cites_per_paper    False\n",
       "ranking                False\n",
       "proj_ai                False\n",
       "dtype: bool"
      ]
     },
     "execution_count": 42,
     "metadata": {},
     "output_type": "execute_result"
    }
   ],
   "source": [
    "df_journals.isna().any()"
   ]
  },
  {
   "cell_type": "markdown",
   "metadata": {},
   "source": [
    "#### Learn\n",
    "To make sure the missing values turned into D, the **value_counts()** command should reflect that the new count for the categorical value **D** is the sum of the original one and the number of null values."
   ]
  },
  {
   "cell_type": "code",
   "execution_count": 43,
   "metadata": {},
   "outputs": [
    {
     "data": {
      "text/plain": [
       "D    1222\n",
       "B    590 \n",
       "A    589 \n",
       "C    581 \n",
       "Name: ranking, dtype: int64"
      ]
     },
     "execution_count": 43,
     "metadata": {},
     "output_type": "execute_result"
    }
   ],
   "source": [
    "df_journals[\"ranking\"].value_counts()"
   ]
  },
  {
   "cell_type": "markdown",
   "metadata": {},
   "source": [
    "#### Is it broken?\n",
    "Unbalanced labels occur when the distribution between the labels presents some of them with much higher frequency than the others. For this dataset, it is not the case."
   ]
  },
  {
   "cell_type": "markdown",
   "metadata": {},
   "source": [
    "## Basic statistics for numerical values\n",
    "#### Exploring distributions\n",
    "##### Try\n",
    "Calculate the min value, max value, mean, standard deviation, and the 25% and 75% percentiles for each column. Use the `describe` command ([documentation](https://pandas.pydata.org/pandas-docs/stable/reference/api/pandas.DataFrame.describe.html?highlight=describe#pandas.DataFrame.describe))."
   ]
  },
  {
   "cell_type": "code",
   "execution_count": 44,
   "metadata": {},
   "outputs": [
    {
     "data": {
      "text/html": [
       "<div>\n",
       "<style scoped>\n",
       "    .dataframe tbody tr th:only-of-type {\n",
       "        vertical-align: middle;\n",
       "    }\n",
       "\n",
       "    .dataframe tbody tr th {\n",
       "        vertical-align: top;\n",
       "    }\n",
       "\n",
       "    .dataframe thead th {\n",
       "        text-align: right;\n",
       "    }\n",
       "</style>\n",
       "<table border=\"1\" class=\"dataframe\">\n",
       "  <thead>\n",
       "    <tr style=\"text-align: right;\">\n",
       "      <th></th>\n",
       "      <th>citation_count_sum</th>\n",
       "      <th>paper_count_sum</th>\n",
       "      <th>avg_cites_per_paper</th>\n",
       "      <th>proj_ai</th>\n",
       "    </tr>\n",
       "  </thead>\n",
       "  <tbody>\n",
       "    <tr>\n",
       "      <th>count</th>\n",
       "      <td>2982.000000</td>\n",
       "      <td>2982.000000</td>\n",
       "      <td>2982.000000</td>\n",
       "      <td>2982.000000</td>\n",
       "    </tr>\n",
       "    <tr>\n",
       "      <th>mean</th>\n",
       "      <td>1466.208967</td>\n",
       "      <td>510.217207</td>\n",
       "      <td>2.122704</td>\n",
       "      <td>0.518378</td>\n",
       "    </tr>\n",
       "    <tr>\n",
       "      <th>std</th>\n",
       "      <td>8679.816913</td>\n",
       "      <td>2078.946632</td>\n",
       "      <td>1.708965</td>\n",
       "      <td>0.583416</td>\n",
       "    </tr>\n",
       "    <tr>\n",
       "      <th>min</th>\n",
       "      <td>0.000000</td>\n",
       "      <td>1.000000</td>\n",
       "      <td>0.000000</td>\n",
       "      <td>0.000000</td>\n",
       "    </tr>\n",
       "    <tr>\n",
       "      <th>25%</th>\n",
       "      <td>149.000000</td>\n",
       "      <td>107.000000</td>\n",
       "      <td>1.051282</td>\n",
       "      <td>0.198000</td>\n",
       "    </tr>\n",
       "    <tr>\n",
       "      <th>50%</th>\n",
       "      <td>424.500000</td>\n",
       "      <td>239.000000</td>\n",
       "      <td>1.728990</td>\n",
       "      <td>0.370000</td>\n",
       "    </tr>\n",
       "    <tr>\n",
       "      <th>75%</th>\n",
       "      <td>1124.750000</td>\n",
       "      <td>518.000000</td>\n",
       "      <td>2.697624</td>\n",
       "      <td>0.647000</td>\n",
       "    </tr>\n",
       "    <tr>\n",
       "      <th>max</th>\n",
       "      <td>426949.000000</td>\n",
       "      <td>104705.000000</td>\n",
       "      <td>26.318824</td>\n",
       "      <td>11.367000</td>\n",
       "    </tr>\n",
       "  </tbody>\n",
       "</table>\n",
       "</div>"
      ],
      "text/plain": [
       "       citation_count_sum  paper_count_sum  avg_cites_per_paper      proj_ai\n",
       "count  2982.000000         2982.000000      2982.000000          2982.000000\n",
       "mean   1466.208967         510.217207       2.122704             0.518378   \n",
       "std    8679.816913         2078.946632      1.708965             0.583416   \n",
       "min    0.000000            1.000000         0.000000             0.000000   \n",
       "25%    149.000000          107.000000       1.051282             0.198000   \n",
       "50%    424.500000          239.000000       1.728990             0.370000   \n",
       "75%    1124.750000         518.000000       2.697624             0.647000   \n",
       "max    426949.000000       104705.000000    26.318824            11.367000  "
      ]
     },
     "execution_count": 44,
     "metadata": {},
     "output_type": "execute_result"
    }
   ],
   "source": [
    "df_journals.describe()"
   ]
  },
  {
   "cell_type": "markdown",
   "metadata": {},
   "source": [
    ">### Question 3\n",
    "Plot the distribution of the \"avg_cites_per_paper\" feature. Use the `.plot.hist(bins=100)` function from matplotlib to plot the distribution of each feature.\n",
    "\n",
    ">`hist` ([documentation](https://matplotlib.org/3.1.1/api/_as_gen/matplotlib.pyplot.hist.html?highlight=hist#matplotlib.pyplot.hist))"
   ]
  },
  {
   "cell_type": "code",
   "execution_count": 45,
   "metadata": {},
   "outputs": [
    {
     "data": {
      "text/plain": [
       "<matplotlib.axes._subplots.AxesSubplot at 0x7ff7cfafe358>"
      ]
     },
     "execution_count": 45,
     "metadata": {},
     "output_type": "execute_result"
    },
    {
     "data": {
      "image/png": "[encoded data removed]",
      "text/plain": [
       "<Figure size 432x288 with 1 Axes>"
      ]
     },
     "metadata": {
      "needs_background": "light"
     },
     "output_type": "display_data"
    }
   ],
   "source": [
    "df_journals.plot.hist(bins=100)"
   ]
  },
  {
   "cell_type": "markdown",
   "metadata": {},
   "source": [
    "## Box and whisker plots\n",
    "Box and whisker plots are great for spoting outliers. Let's explore using a box and whisker plot."
   ]
  },
  {
   "cell_type": "markdown",
   "metadata": {},
   "source": [
    ">### Question 4\n",
    ">#### Try\n",
    ">The same way you've plotted the distribution, now make a box and whisker plot using the `boxplot` function ([documentation](https://matplotlib.org/3.1.1/api/_as_gen/matplotlib.pyplot.boxplot.html?highlight=boxplot#matplotlib.pyplot.boxplot)) for the numerical feature \"avg_cites_per_paper\". "
   ]
  },
  {
   "cell_type": "code",
   "execution_count": 52,
   "metadata": {},
   "outputs": [
    {
     "data": {
      "text/plain": [
       "<matplotlib.axes._subplots.AxesSubplot at 0x7ff7cebadba8>"
      ]
     },
     "execution_count": 52,
     "metadata": {},
     "output_type": "execute_result"
    },
    {
     "data": {
      "image/png": "[encoded data removed]",
      "text/plain": [
       "<Figure size 432x288 with 1 Axes>"
      ]
     },
     "metadata": {
      "needs_background": "light"
     },
     "output_type": "display_data"
    }
   ],
   "source": [
    "sns.boxplot( data=df_journals)\n",
    "\n"
   ]
  },
  {
   "cell_type": "markdown",
   "metadata": {},
   "source": [
    "#### Learn \n",
    "Notice that the box and whisker plot helps to spot outliers."
   ]
  },
  {
   "cell_type": "markdown",
   "metadata": {},
   "source": [
    "#### Learn\n",
    "Now, let's use a more interesting technique to remove outliers using the percentiles.\n",
    "\n",
    "To print the percentiles of the dataset's numerical values, use the **.describe()** command."
   ]
  },
  {
   "cell_type": "code",
   "execution_count": 53,
   "metadata": {},
   "outputs": [
    {
     "data": {
      "text/html": [
       "<div>\n",
       "<style scoped>\n",
       "    .dataframe tbody tr th:only-of-type {\n",
       "        vertical-align: middle;\n",
       "    }\n",
       "\n",
       "    .dataframe tbody tr th {\n",
       "        vertical-align: top;\n",
       "    }\n",
       "\n",
       "    .dataframe thead th {\n",
       "        text-align: right;\n",
       "    }\n",
       "</style>\n",
       "<table border=\"1\" class=\"dataframe\">\n",
       "  <thead>\n",
       "    <tr style=\"text-align: right;\">\n",
       "      <th></th>\n",
       "      <th>citation_count_sum</th>\n",
       "      <th>paper_count_sum</th>\n",
       "      <th>avg_cites_per_paper</th>\n",
       "      <th>proj_ai</th>\n",
       "    </tr>\n",
       "  </thead>\n",
       "  <tbody>\n",
       "    <tr>\n",
       "      <th>count</th>\n",
       "      <td>2982.000000</td>\n",
       "      <td>2982.000000</td>\n",
       "      <td>2982.000000</td>\n",
       "      <td>2982.000000</td>\n",
       "    </tr>\n",
       "    <tr>\n",
       "      <th>mean</th>\n",
       "      <td>1466.208967</td>\n",
       "      <td>510.217207</td>\n",
       "      <td>2.122704</td>\n",
       "      <td>0.518378</td>\n",
       "    </tr>\n",
       "    <tr>\n",
       "      <th>std</th>\n",
       "      <td>8679.816913</td>\n",
       "      <td>2078.946632</td>\n",
       "      <td>1.708965</td>\n",
       "      <td>0.583416</td>\n",
       "    </tr>\n",
       "    <tr>\n",
       "      <th>min</th>\n",
       "      <td>0.000000</td>\n",
       "      <td>1.000000</td>\n",
       "      <td>0.000000</td>\n",
       "      <td>0.000000</td>\n",
       "    </tr>\n",
       "    <tr>\n",
       "      <th>25%</th>\n",
       "      <td>149.000000</td>\n",
       "      <td>107.000000</td>\n",
       "      <td>1.051282</td>\n",
       "      <td>0.198000</td>\n",
       "    </tr>\n",
       "    <tr>\n",
       "      <th>50%</th>\n",
       "      <td>424.500000</td>\n",
       "      <td>239.000000</td>\n",
       "      <td>1.728990</td>\n",
       "      <td>0.370000</td>\n",
       "    </tr>\n",
       "    <tr>\n",
       "      <th>75%</th>\n",
       "      <td>1124.750000</td>\n",
       "      <td>518.000000</td>\n",
       "      <td>2.697624</td>\n",
       "      <td>0.647000</td>\n",
       "    </tr>\n",
       "    <tr>\n",
       "      <th>max</th>\n",
       "      <td>426949.000000</td>\n",
       "      <td>104705.000000</td>\n",
       "      <td>26.318824</td>\n",
       "      <td>11.367000</td>\n",
       "    </tr>\n",
       "  </tbody>\n",
       "</table>\n",
       "</div>"
      ],
      "text/plain": [
       "       citation_count_sum  paper_count_sum  avg_cites_per_paper      proj_ai\n",
       "count  2982.000000         2982.000000      2982.000000          2982.000000\n",
       "mean   1466.208967         510.217207       2.122704             0.518378   \n",
       "std    8679.816913         2078.946632      1.708965             0.583416   \n",
       "min    0.000000            1.000000         0.000000             0.000000   \n",
       "25%    149.000000          107.000000       1.051282             0.198000   \n",
       "50%    424.500000          239.000000       1.728990             0.370000   \n",
       "75%    1124.750000         518.000000       2.697624             0.647000   \n",
       "max    426949.000000       104705.000000    26.318824            11.367000  "
      ]
     },
     "execution_count": 53,
     "metadata": {},
     "output_type": "execute_result"
    }
   ],
   "source": [
    "df_journals.describe()"
   ]
  },
  {
   "cell_type": "markdown",
   "metadata": {},
   "source": [
    "You will use the 25%, 50%, and 75% percentiles (or quartiles) as a guideline to remove the outliers.\n",
    "\n",
    "For each feature, you will remove all data points outside the interquartile range (IQR), where:\n",
    "\n",
    "$$IQR = 75\\% \\space quartile - 25\\% \\space quartile$$\n",
    "$$Lower \\space Threshold = 50\\% \\space percentile - 1.5 * IQR$$\n",
    "$$Upper \\space Threshold = 50\\% \\space percentile + 1.5 * IQR$$\n",
    "\n",
    "The NumPy package has the `percentile` function ([documentation](https://docs.scipy.org/doc/numpy/reference/generated/numpy.percentile.html?highlight=percentile#numpy.percentile)) that can help you to get the threshold values."
   ]
  },
  {
   "cell_type": "code",
   "execution_count": 74,
   "metadata": {},
   "outputs": [
    {
     "name": "stdout",
     "output_type": "stream",
     "text": [
      "[151.0, 40.0, 255.0, 30.0, 9.0, 71.0, 340.0, 512.0, 912.0, 70.0, 128.0, 143.0, 536.0, 109.0, 499.0, 499.0, 657.0, 657.0, 230.0, 1432.0, 138.0, 443.0, 481.0, 100.0, 100.0, 100.0, 193.0, 163.0, 97.0, 226.0, 1758.0, 636.0, 313.0, 5.0, 450.0, 450.0, 354.0, 471.0, 234.0, 234.0, 682.0, 682.0, 993.0, 387.0, 387.0, 1354.0, 145.0, 197.0, 197.0, 647.0, 192.0, 738.0, 738.0, 31.0, 31.0, 66.0, 48.0, 48.0, 347.0, 910.0, 910.0, 73.0, 260.0, 61.0, 45.0, 286.0, 286.0, 1014.0, 105.0, 146.0, 162.0, 443.0, 205.0, 205.0, 0.0, 1298.0, 278.0, 278.0, 264.0, 1179.0, 791.0, 795.0, 795.0, 210.0, 862.0, 399.0, 538.0, 538.0, 126.0, 304.0, 576.0, 12.0, 151.0, 62.0, 1238.0, 71.0, 444.0, 186.0, 391.0, 1316.0, 137.0, 114.0, 88.0, 1298.0, 1931.0, 259.0, 172.0, 812.0, 375.0, 873.0, 211.0, 876.0, 1884.0, 188.0, 455.0, 1168.0, 356.0, 292.0, 854.0, 219.0, 505.0, 828.0, 828.0, 97.0, 116.0, 998.0, 967.0, 487.0, 295.0, 45.0, 219.0, 409.0, 875.0, 17.0, 17.0, 1852.0, 1375.0, 639.0, 53.0, 205.0, 205.0, 1163.0, 18.0, 153.0, 250.0, 250.0, 193.0, 201.0, 1254.0, 121.0, 1505.0, 169.0, 1534.0, 1534.0, 385.0, 865.0, 865.0, 224.0, 146.0, 102.0, 1060.0, 396.0, 590.0, 905.0, 484.0, 484.0, 1062.0, 309.0, 1256.0, 228.0, 561.0, 367.0, 367.0, 112.0, 24.0, 105.0, 18.0, 12.0, 15.0, 959.0, 1262.0, 157.0, 326.0, 259.0, 440.0, 132.0, 390.0, 179.0, 511.0, 3.0, 869.0, 445.0, 257.0, 103.0, 364.0, 364.0, 474.0, 292.0, 758.0, 758.0, 836.0, 112.0, 1316.0, 1181.0, 253.0, 348.0, 159.0, 61.0, 143.0, 1807.0, 281.0, 487.0, 487.0, 1302.0, 178.0, 21.0, 1551.0, 801.0, 801.0, 549.0, 74.0, 12.0, 4.0, 153.0, 706.0, 141.0, 333.0, 526.0, 582.0, 1737.0, 312.0, 401.0, 297.0, 29.0, 102.0, 1224.0, 156.0, 87.0, 407.0, 80.0, 874.0, 0.0, 1803.0, 1803.0, 122.0, 214.0, 214.0, 44.0, 44.0, 56.0, 85.0, 85.0, 14.0, 14.0, 35.0, 35.0, 126.0, 188.0, 188.0, 114.0, 114.0, 191.0, 612.0, 505.0, 78.0, 374.0, 548.0, 5.0, 1106.0, 75.0, 439.0, 248.0, 472.0, 9.0, 38.0, 72.0, 72.0, 260.0, 477.0, 19.0, 1227.0, 162.0, 2.0, 147.0, 3.0, 46.0, 201.0, 52.0, 960.0, 509.0, 70.0, 546.0, 381.0, 484.0, 1047.0, 136.0, 259.0, 717.0, 1462.0, 477.0, 921.0, 144.0, 622.0, 1097.0, 21.0, 116.0, 491.0, 347.0, 1004.0, 409.0, 262.0, 262.0, 190.0, 1449.0, 485.0, 1464.0, 1517.0, 177.0, 248.0, 280.0, 811.0, 705.0, 336.0, 376.0, 376.0, 296.0, 381.0, 851.0, 376.0, 376.0, 497.0, 138.0, 1725.0, 45.0, 950.0, 37.0, 276.0, 563.0, 177.0, 968.0, 551.0, 305.0, 575.0, 1964.0, 2055.0, 940.0, 519.0, 603.0, 1677.0, 444.0, 40.0, 701.0, 360.0, 690.0, 805.0, 480.0, 145.0, 241.0, 532.0, 1417.0, 562.0, 59.0, 230.0, 192.0, 347.0, 347.0, 407.0, 985.0, 342.0, 972.0, 329.0, 702.0, 702.0, 838.0, 838.0, 272.0, 646.0, 940.0, 1310.0, 1310.0, 1445.0, 1445.0, 394.0, 394.0, 258.0, 258.0, 206.0, 84.0, 728.0, 575.0, 64.0, 560.0, 133.0, 8.0, 8.0, 10.0, 337.0, 1073.0, 460.0, 304.0, 1312.0, 1312.0, 1028.0, 360.0, 304.0, 165.0, 1446.713849569803, 10.0, 10.0, 5.0, 17.0, 207.0, 1878.0, 56.0, 93.0, 32.0, 440.0, 146.0, 1925.0, 76.0, 951.0, 63.0, 146.0, 146.0, 18.0, 235.0, 849.0, 49.0, 49.0, 2086.0, 1151.0, 226.0, 441.0, 133.0, 257.0, 10.0, 754.0, 742.0, 842.0, 474.0, 513.0, 264.0, 368.0, 846.0, 177.0, 404.0, 241.0, 59.0, 638.0, 408.0, 1842.0, 1328.0, 323.0, 172.0, 429.0, 385.0, 1537.0, 643.0, 643.0, 69.0, 69.0, 288.0, 16.0, 217.0, 36.0, 74.0, 420.0, 1691.0, 29.0, 248.0, 75.0, 1688.0, 616.0, 287.0, 287.0, 289.0, 222.0, 699.0, 345.0, 989.0, 15.0, 15.0, 414.0, 596.0, 596.0, 143.0, 675.0, 332.0, 148.0, 10.0, 864.0, 900.0, 228.0, 1268.0, 151.0, 1589.0, 1643.0, 69.0, 149.0, 1228.0, 457.0, 1089.0, 298.0, 121.0, 442.0, 682.0, 1744.0, 1744.0, 102.0, 313.0, 412.0, 412.0, 2013.0, 1344.0, 82.0, 326.0, 566.0, 578.0, 1172.0, 19.0, 543.0, 293.0, 178.0, 22.0, 940.0, 190.0, 24.0, 239.0, 420.0, 1169.0, 191.0, 1039.0, 1002.0, 1002.0, 176.0, 1932.0, 92.0, 1079.0, 412.0, 1446.713849569803, 8.0, 473.0, 473.0, 454.0, 160.0, 509.0, 509.0, 147.0, 274.0, 1637.0, 1355.0, 2046.0, 102.0, 566.0, 243.0, 50.0, 360.0, 812.0, 190.0, 2028.0, 143.0, 234.0, 64.0, 64.0, 20.0, 436.0, 224.0, 630.0, 236.0, 236.0, 298.0, 1176.0, 76.0, 27.0, 501.0, 501.0, 316.0, 1225.0, 1341.0, 71.0, 923.0, 187.0, 159.0, 1810.0, 180.0, 947.0, 291.0, 1480.0, 692.0, 183.0, 1575.0, 1144.0, 925.0, 851.0, 1048.0, 1896.0, 204.0, 35.0, 35.0, 418.0, 1329.0, 46.0, 645.0, 522.0, 159.0, 159.0, 724.0, 305.0, 496.0, 496.0, 131.0, 131.0, 289.0, 22.0, 284.0, 878.0, 1973.0, 68.0, 324.0, 15.0, 173.0, 68.0, 19.0, 21.0, 106.0, 21.0, 327.0, 99.0, 35.0, 35.0, 359.0, 9.0, 346.0, 346.0, 136.0, 1064.0, 551.0, 173.0, 1866.0, 82.0, 0.0, 925.0, 1446.713849569803, 55.0, 832.0, 832.0, 189.0, 1246.0, 1246.0, 389.0, 189.0, 487.0, 1296.0, 1296.0, 90.0, 467.0, 59.0, 2.0, 1541.0, 800.0, 1869.0, 53.0, 1597.0, 19.0, 395.0, 191.0, 7.0, 85.0, 1039.0, 1737.0, 125.0, 44.0, 659.0, 659.0, 49.0, 45.0, 311.0, 776.0, 1101.0, 30.0, 38.0, 92.0, 44.0, 797.0, 77.0, 60.0, 108.0, 300.0, 104.0, 104.0, 318.0, 0.0, 1071.0, 110.0, 814.0, 1905.0, 993.0, 452.0, 424.0, 392.0, 436.0, 1115.0, 232.0, 230.0, 796.0, 24.0, 931.0, 295.0, 49.0, 69.0, 220.0, 166.0, 8.0, 141.0, 855.0, 89.0, 960.0, 960.0, 51.0, 1634.0, 403.0, 396.0, 444.0, 444.0, 508.0, 283.0, 474.0, 126.0, 126.0, 437.0, 283.0, 283.0, 9.0, 363.0, 1442.0, 1135.0, 298.0, 918.0, 538.0, 354.0, 466.0, 644.0, 343.0, 343.0, 52.0, 270.0, 185.0, 236.0, 59.0, 0.0, 378.0, 172.0, 128.0, 128.0, 1709.0, 215.0, 10.0, 199.0, 49.0, 49.0, 430.0, 75.0, 966.0, 1870.0, 226.0, 58.0, 75.0, 491.0, 158.0, 1432.0, 993.0, 48.0, 1813.0, 1901.0, 416.0, 364.0, 364.0, 364.0, 204.0, 1351.0, 467.0, 217.0, 731.0, 731.0, 186.0, 109.0, 427.0, 252.0, 149.0, 149.0, 255.0, 1047.0, 570.0, 132.0, 1275.0, 152.0, 152.0, 165.0, 165.0, 588.0, 1882.0, 1882.0, 244.0, 1093.0, 540.0, 210.0, 1092.0, 1455.0, 337.0, 489.0, 1840.0, 915.0, 1537.0, 242.0, 1643.0, 210.0, 1085.0, 360.0, 963.0, 519.0, 196.0, 91.0, 315.0, 809.0, 2.0, 452.0, 463.0, 100.0, 359.0, 96.0, 1409.0, 657.0, 104.0, 56.0, 1570.0, 820.0, 650.0, 15.0, 15.0, 448.0, 565.0, 320.0, 320.0, 16.0, 504.0, 504.0, 1580.0, 409.0, 498.0, 424.0, 744.0, 596.0, 596.0, 105.0, 523.0, 314.0, 314.0, 801.0, 286.0, 22.0, 26.0, 31.0, 86.0, 86.0, 76.0, 684.0, 122.0, 1446.713849569803, 7.0, 1446.713849569803, 214.0, 1726.0, 4.0, 212.0, 130.0, 110.0, 135.0, 102.0, 6.0, 189.0, 47.0, 164.0, 37.0, 1646.0, 1521.0, 307.0, 1065.0, 47.0, 414.0, 6.0, 677.0, 52.0, 486.0, 19.0, 1200.0, 1601.0, 580.0, 955.0, 109.0, 1237.0, 12.0, 1422.0, 1422.0, 66.0, 1356.0, 638.0, 2036.0, 254.0, 320.0, 29.0, 947.0, 259.0, 1107.0, 45.0, 762.0, 831.0, 831.0, 948.0, 948.0, 136.0, 2089.0, 1719.0, 319.0, 104.0, 363.0, 87.0, 178.0, 211.0, 419.0, 337.0, 624.0, 132.0, 132.0, 231.0, 122.0, 216.0, 216.0, 728.0, 36.0, 36.0, 91.0, 438.0, 774.0, 107.0, 95.0, 394.0, 563.0, 1042.0, 42.0, 325.0, 5.0, 999.0, 606.0, 445.0, 690.0, 31.0, 329.0, 388.0, 388.0, 400.0, 440.0, 54.0, 547.0, 206.0, 38.0, 68.0, 574.0, 8.0, 41.0, 62.0, 333.0, 451.0, 1013.0, 171.0, 199.0, 1082.0, 1082.0, 1082.0, 61.0, 935.0, 1279.0, 77.0, 934.0, 9.0, 210.0, 1034.0, 100.0, 676.0, 177.0, 177.0, 631.0, 631.0, 99.0, 77.0, 502.0, 71.0, 1816.0, 7.0, 13.0, 1515.0, 26.0, 82.0, 19.0, 607.0, 519.0, 440.0, 87.0, 744.0, 16.0, 127.0, 459.0, 1035.0, 80.0, 8.0, 18.0, 459.0, 388.0, 99.0, 99.0, 209.0, 1045.0, 145.0, 170.0, 44.0, 172.0, 274.0, 420.0, 971.0, 1590.0, 124.0, 531.0, 422.0, 79.0, 511.0, 511.0, 65.0, 493.0, 363.0, 855.0, 735.0, 735.0, 4.0, 209.0, 38.0, 202.0, 622.0, 622.0, 104.0, 967.0, 967.0, 554.0, 554.0, 215.0, 734.0, 1027.0, 371.0, 154.0, 285.0, 413.0, 1131.0, 637.0, 128.0, 1430.0, 480.0, 116.0, 1992.0, 51.0, 1272.0, 1272.0, 1272.0, 125.0, 914.0, 222.0, 116.0, 198.0, 478.0, 478.0, 116.0, 116.0, 58.0, 178.0, 467.0, 778.0, 952.0, 91.0, 565.0, 207.0, 183.0, 45.0, 326.0, 296.0, 296.0, 1004.0, 4.0, 117.0, 398.0, 398.0, 386.0, 1225.0, 653.0, 351.0, 165.0, 79.0, 1420.0, 34.0, 13.0, 144.0, 4.0, 1307.0, 396.0, 396.0, 102.0, 102.0, 930.0, 206.0, 1047.0, 1047.0, 660.0, 29.0, 969.0, 264.0, 460.0, 1635.0, 128.0, 113.0, 1303.0, 1452.0, 544.0, 145.0, 385.0, 1231.0, 977.0, 41.0, 4.0, 1446.713849569803, 409.0, 409.0, 409.0, 409.0, 292.0, 1.0, 196.0, 158.0, 140.0, 797.0, 166.0, 482.0, 482.0, 121.0, 115.0, 1385.0, 189.0, 14.0, 17.0, 17.0, 496.0, 112.0, 474.0, 1947.0, 764.0, 311.0, 154.0, 206.0, 1164.0, 209.0, 169.0, 164.0, 1197.0, 17.0, 114.0, 776.0, 394.0, 554.0, 310.0, 46.0, 291.0, 4.0, 482.0, 400.0, 74.0, 1814.0, 501.0, 233.0, 228.0, 1817.0, 1817.0, 647.0, 432.0, 49.0, 77.0, 77.0, 61.0, 281.0, 132.0, 545.0, 135.0, 99.0, 514.0, 270.0, 434.0, 434.0, 434.0, 55.0, 688.0, 688.0, 657.0, 4.0, 316.0, 238.0, 636.0, 636.0, 636.0, 636.0, 636.0, 636.0, 636.0, 636.0, 636.0, 636.0, 636.0, 636.0, 636.0, 636.0, 636.0, 636.0, 636.0, 636.0, 636.0, 636.0, 636.0, 636.0, 636.0, 636.0, 636.0, 636.0, 636.0, 208.0, 494.0, 494.0, 1393.0, 1393.0, 656.0, 656.0, 129.0, 465.0, 506.0, 506.0, 836.0, 227.0, 1453.0, 79.0, 459.0, 126.0, 606.0, 170.0, 667.0, 123.0, 232.0, 200.0, 200.0, 83.0, 83.0, 32.0, 777.0, 345.0, 302.0, 213.0, 50.0, 8.0, 1751.0, 1019.0, 105.0, 187.0, 176.0, 51.0, 98.0, 71.0, 135.0, 316.0, 258.0, 648.0, 325.0, 0.0, 247.0, 78.0, 2.0, 1736.0, 47.0, 116.0, 1257.0, 36.0, 56.0, 1469.0, 84.0, 245.0, 23.0, 389.0, 446.0, 1405.0, 814.0, 324.0, 324.0, 501.0, 501.0, 1038.0, 209.0, 15.0, 159.0, 159.0, 678.0, 950.0, 644.0, 644.0, 816.0, 147.0, 91.0, 2052.0, 111.0, 805.0, 805.0, 239.0, 1143.0, 158.0, 60.0, 134.0, 203.0, 651.0, 350.0, 1192.0, 114.0, 24.0, 127.0, 1066.0, 931.0, 931.0, 37.0, 68.0, 364.0, 52.0, 314.0, 0.0, 262.0, 1169.0, 798.0, 738.0, 101.0, 113.0, 113.0, 204.0, 1198.0, 1800.0, 43.0, 630.0, 1922.0, 404.0, 1125.0, 987.0, 987.0, 1239.0, 1239.0, 341.0, 71.0, 71.0, 71.0, 246.0, 2053.0, 151.0, 69.0, 1762.0, 1828.0, 264.0, 254.0, 656.0, 284.0, 329.0, 329.0, 252.0, 336.0, 45.0, 237.0, 237.0, 25.0, 2088.0, 2088.0, 1850.0, 1850.0, 683.0, 1681.0, 104.0, 1009.0, 1009.0, 462.0, 186.0, 1330.0, 910.0, 867.0, 867.0, 1324.0, 351.0, 1542.0, 119.0, 417.0, 144.0, 208.0, 468.0, 914.0, 1489.0, 1489.0, 129.0, 114.0, 84.0, 898.0, 212.0, 520.0, 645.0, 449.0, 453.0, 668.0, 540.0, 1579.0, 1000.0, 1000.0, 402.0, 771.0, 676.0, 812.0, 132.0, 695.0, 329.0, 183.0, 183.0, 226.0, 104.0, 489.0, 489.0, 131.0, 886.0, 158.0, 156.0, 72.0, 495.0, 225.0, 69.0, 441.0, 1152.0, 1152.0, 934.0, 50.0, 1615.0, 270.0, 4.0, 752.0, 65.0, 36.0, 394.0, 230.0, 157.0, 264.0, 92.0, 497.0, 354.0, 12.0, 1639.0, 46.0, 29.0, 30.0, 792.0, 225.0, 225.0, 1227.0, 326.0, 212.0, 388.0, 93.0, 7.0, 473.0, 149.0, 828.0, 315.0, 150.0, 337.0, 588.0, 404.0, 414.0, 53.0, 470.0, 229.0, 958.0, 381.0, 973.0, 575.0, 1608.0, 280.0, 52.0, 171.0, 845.0, 462.0, 1259.0, 91.0, 1554.0, 924.0, 244.0, 163.0, 2033.0, 29.0, 15.0, 294.0, 629.0, 629.0, 417.0, 1347.0, 192.0, 192.0, 106.0, 106.0, 1591.0, 25.0, 932.0, 100.0, 156.0, 27.0, 312.0, 1272.0, 76.0, 154.0, 831.0, 341.0, 934.0, 1442.0, 30.0, 1819.0, 107.0, 316.0, 1807.0, 590.0, 961.0, 1048.0, 963.0, 34.0, 225.0, 225.0, 512.0, 512.0, 29.0, 30.0, 744.0, 284.0, 870.0, 519.0, 412.0, 251.0, 469.0, 31.0, 1303.0, 1303.0, 386.0, 1120.0, 825.0, 960.0, 1.0, 755.0, 387.0, 1053.0, 353.0, 101.0, 101.0, 1913.0, 60.0, 201.0, 43.0, 43.0, 847.0, 1838.0, 44.0, 97.0, 925.0, 138.0, 277.0, 576.0, 611.0, 230.0, 347.0, 1514.0, 169.0, 169.0, 353.0, 918.0, 101.0, 130.0, 130.0, 1187.0, 141.0, 705.0, 705.0, 1370.0, 323.0, 920.0, 48.0, 48.0, 308.0, 316.0, 1534.0, 890.0, 560.0, 21.0, 752.0, 531.0, 928.0, 265.0, 743.0, 1445.0, 809.0, 809.0, 1521.0, 516.0, 359.0, 1254.0, 881.0, 450.0, 254.0, 875.0, 872.0, 1231.0, 313.0, 517.0, 265.0, 960.0, 165.0, 175.0, 175.0, 484.0, 1678.0, 545.0, 264.0, 249.0, 268.0, 813.0, 966.0, 679.0, 369.0, 102.0, 330.0, 859.0, 20.0, 1274.0, 102.0, 445.0, 445.0, 236.0, 476.0, 102.0, 611.0, 356.0, 1315.0, 886.0, 1765.0, 627.0, 1232.0, 1232.0, 299.0, 233.0, 1446.713849569803, 830.0, 48.0, 1290.0, 1290.0, 126.0, 126.0, 93.0, 407.0, 162.0, 147.0, 699.0, 425.0, 742.0, 514.0, 187.0, 1224.0, 219.0, 438.0, 331.0, 72.0, 2.0, 460.0, 249.0, 249.0, 12.0, 2049.0, 954.0, 305.0, 172.0, 25.0, 257.0, 1187.0, 1720.0, 176.0, 1688.0, 512.0, 121.0, 1432.0, 329.0, 1703.0, 1703.0, 256.0, 1023.0, 125.0, 749.0, 919.0, 145.0, 278.0, 505.0, 505.0, 26.0, 724.0, 41.0, 353.0, 208.0, 1496.0, 84.0, 1416.0, 430.0, 330.0, 176.0, 854.0, 520.0, 342.0, 210.0, 117.0, 100.0, 431.0, 23.0, 803.0, 345.0, 390.0, 1440.0, 447.0, 332.0, 54.0, 409.0, 129.0, 109.0, 250.0, 324.0, 385.0, 149.0, 989.0, 989.0, 1482.0, 277.0, 102.0, 134.0, 17.0, 229.0, 513.0, 543.0, 183.0, 201.0, 51.0, 178.0, 178.0, 54.0, 185.0, 1060.0, 477.0, 69.0, 310.0, 330.0, 35.0, 48.0, 323.0, 267.0, 205.0, 205.0, 928.0, 180.0, 180.0, 171.0, 39.0, 179.0, 9.0, 135.0, 1462.0, 539.0, 280.0, 219.0, 77.0, 512.0, 166.0, 15.0, 1052.0, 74.0, 127.0, 30.0, 98.0, 108.0, 600.0, 54.0, 354.0, 339.0, 1239.0, 523.0, 176.0, 4.0, 1571.0, 270.0, 549.0, 236.0, 445.0, 182.0, 167.0, 1153.0, 16.0, 148.0, 262.0, 1654.0, 338.0, 82.0, 577.0, 1623.0, 37.0, 1797.0, 1797.0, 1797.0, 4.0, 464.0, 220.0, 481.0, 481.0, 21.0, 35.0, 102.0, 102.0, 1835.0, 1609.0, 77.0, 31.0, 954.0, 1997.0, 395.0, 264.0, 36.0, 529.0, 529.0, 428.0, 227.0, 324.0, 395.0, 1396.0, 1396.0, 1396.0, 220.0, 431.0, 1451.0, 375.0, 1931.0, 150.0, 75.0, 991.0, 140.0, 185.0, 1124.0, 251.0, 1040.0, 1992.0, 88.0, 342.0, 134.0, 1151.0, 58.0, 151.0, 33.0, 1015.0, 214.0, 1259.0, 528.0, 561.0, 808.0, 566.0, 1298.0, 1950.0, 1829.0, 178.0, 25.0, 874.0, 399.0, 440.0, 274.0, 339.0, 337.0, 40.0, 561.0, 232.0, 1100.0, 1165.0, 349.0, 407.0, 169.0, 191.0, 16.0, 829.0, 115.0, 748.0, 29.0, 23.0, 60.0, 535.0, 535.0, 25.0, 115.0, 23.0, 63.0, 375.0, 620.0, 1160.0, 1160.0, 853.0, 30.0, 164.0, 318.0, 643.0, 9.0, 799.0, 799.0, 419.0, 1007.0, 1640.0, 1640.0, 45.0, 1276.0, 827.0, 737.0, 1325.0, 161.0, 566.0, 5.0, 49.0, 65.0, 616.0, 49.0, 709.0, 86.0, 1782.0, 467.0, 283.0, 4.0, 76.0, 76.0, 9.0, 123.0, 125.0, 919.0, 484.0, 898.0, 548.0, 1929.0, 853.0, 598.0, 61.0, 1127.0, 1002.0, 40.0, 212.0, 1348.0, 278.0, 171.0, 63.0, 1542.0, 197.0, 197.0, 1138.0, 306.0, 266.0, 147.0, 187.0, 496.0, 258.0, 328.0, 782.0, 693.0, 432.0, 79.0, 12.0, 88.0, 136.0, 22.0, 562.0, 49.0, 212.0, 149.0, 5.0, 533.0, 1965.0, 579.0, 847.0, 668.0, 370.0, 699.0, 699.0, 483.0, 270.0, 75.0, 141.0, 1400.0, 138.0, 138.0, 502.0, 502.0, 1225.0, 179.0, 242.0, 1101.0, 1039.0, 400.0, 409.0, 284.0, 388.0, 1948.0, 485.0, 144.0, 520.0, 971.0, 1912.0, 34.0, 34.0, 97.0, 21.0, 1113.0, 164.0, 642.0, 328.0, 328.0, 237.0, 1258.0, 562.0, 1390.0, 413.0, 1952.0, 105.0, 19.0, 249.0, 11.0, 232.0, 1914.0, 614.0, 1518.0, 542.0, 25.0, 1338.0, 81.0, 844.0, 844.0, 948.0, 785.0, 874.0, 173.0, 342.0, 342.0, 416.0, 35.0, 1594.0, 1201.0, 1225.0, 376.0, 201.0, 201.0, 588.0, 1177.0, 468.0, 682.0, 433.0, 1598.0, 153.0, 222.0, 2052.0, 1.0, 493.0, 22.0, 1792.0, 390.0, 390.0, 322.0, 194.0, 194.0, 237.0, 418.0, 182.0, 84.0, 44.0, 619.0, 73.0, 1609.0, 2070.0, 400.0, 483.0, 879.0, 377.0, 26.0, 180.0, 214.0, 1.0, 167.0, 317.0, 589.0, 392.0, 965.0, 256.0, 3.0, 748.0, 411.0, 3.0, 666.0, 1.0, 196.0, 265.0, 1523.0, 1523.0, 964.0, 811.0, 1541.0, 225.0, 212.0, 1051.0, 75.0, 324.0, 157.0, 29.0, 565.0, 1094.0, 22.0, 1176.0, 151.0, 63.0, 462.0, 1301.0, 713.0, 122.0, 241.0, 90.0, 1131.0, 421.0, 1177.0, 1436.0, 166.0, 85.0, 291.0, 367.0, 167.0, 445.0, 29.0, 119.0, 43.0, 160.0, 103.0, 614.0, 210.0, 118.0, 1025.0, 126.0, 110.0, 1672.0, 225.0, 2023.0, 1144.0, 61.0, 460.0, 74.0, 1446.713849569803, 19.0, 262.0, 753.0, 360.0, 633.0, 11.0, 16.0, 16.0, 5.0, 5.0, 10.0, 1547.0, 2.0, 252.0, 790.0, 68.0, 59.0, 273.0, 261.0, 162.0, 374.0, 399.0, 125.0, 505.0, 755.0, 41.0, 6.0, 6.0, 444.0, 544.0, 1264.0, 58.0, 1156.0, 968.0, 346.0, 837.0, 771.0, 771.0, 414.0, 319.0, 319.0, 64.0, 306.0, 596.0, 101.0, 1024.0, 591.0, 229.0, 229.0, 861.0, 28.0, 184.0, 924.0, 421.0, 1159.0, 223.0, 678.0, 46.0, 129.0, 59.0, 74.0, 74.0, 34.0, 138.0, 138.0, 499.0, 119.0, 370.0, 59.0, 106.0, 90.0, 183.0, 64.0, 125.0, 165.0, 91.0, 4.0, 82.0, 82.0, 498.0, 0.0, 882.0, 760.0, 760.0, 70.0, 5.0, 29.0, 29.0, 1259.0, 121.0, 19.0, 32.0, 27.0, 935.0, 23.0, 394.0, 49.0, 85.0, 199.0, 812.0, 60.0, 396.0, 693.0, 407.0, 665.0, 469.0, 469.0, 467.0, 467.0, 439.0, 436.0, 231.0, 219.0, 296.0, 1939.0, 1939.0, 201.0, 1950.0, 817.0, 1197.0, 1197.0, 570.0, 530.0, 545.0, 233.0, 633.0, 311.0, 794.0, 84.0, 315.0, 1716.0, 601.0, 601.0, 18.0, 18.0, 236.0, 2088.0, 68.0, 257.0, 395.0, 426.0, 426.0, 357.0, 21.0, 198.0, 528.0, 953.0, 953.0, 623.0, 2055.0, 194.0, 1700.0, 2007.0, 446.0, 193.0, 417.0, 12.0, 174.0, 156.0, 58.0, 380.0, 1446.713849569803, 100.0, 499.0, 499.0, 48.0, 48.0, 192.0, 48.0, 319.0, 460.0, 460.0, 635.0, 635.0, 1453.0, 43.0, 140.0, 61.0, 14.0, 744.0, 744.0, 23.0, 45.0, 139.0, 51.0, 11.0, 207.0, 12.0, 30.0, 49.0, 454.0, 1021.0, 91.0, 1847.0, 1847.0, 1821.0, 1131.0, 1131.0, 1528.0, 4.0, 2084.0, 192.0, 1186.0, 9.0, 251.0, 183.0, 13.0, 132.0, 20.0, 20.0, 724.0, 724.0, 240.0, 596.0, 1873.0, 1114.0, 1255.0, 957.0, 808.0, 272.0, 1575.0, 1575.0, 466.0, 1130.0, 946.0, 1047.0, 193.0, 165.0, 528.0, 1123.0, 15.0, 1243.0, 22.0, 54.0, 54.0, 222.0, 308.0, 958.0, 75.0, 594.0, 1375.0, 190.0, 27.0, 43.0, 36.0, 1147.0, 334.0, 1816.0, 79.0, 6.0, 44.0, 15.0, 94.0, 26.0, 251.0, 63.0, 57.0, 10.0, 295.0, 31.0, 172.0, 26.0, 19.0, 50.0, 32.0, 8.0, 105.0, 53.0, 72.0, 231.0, 110.0, 129.0, 140.0, 18.0, 155.0, 662.0, 60.0, 20.0, 19.0, 39.0, 24.0, 151.0, 276.0, 86.0, 2.0, 213.0, 43.0, 122.0, 77.0, 244.0, 883.0, 1.0, 445.0, 1916.0, 401.0, 347.0, 347.0, 186.0, 188.0, 393.0, 304.0, 242.0, 130.0, 130.0, 130.0, 313.0, 175.0, 185.0, 236.0, 1034.0, 262.0, 1855.0, 103.0, 103.0, 227.0, 1274.0, 38.0, 692.0, 240.0, 240.0, 1067.0, 264.0, 93.0, 17.0, 17.0, 12.0, 12.0, 102.0, 1446.713849569803, 1777.0, 683.0, 207.0, 322.0, 154.0, 6.0, 508.0, 505.0, 475.0, 316.0, 492.0, 313.0, 166.0, 166.0, 432.0, 248.0, 325.0, 832.0, 22.0, 50.0, 306.0, 400.0, 316.0, 517.0, 752.0, 235.0, 242.0, 11.0, 321.0, 1039.0, 567.0, 9.0, 43.0, 187.0, 187.0, 505.0, 2051.0, 2051.0, 383.0, 34.0, 60.0, 309.0, 213.0, 1180.0, 85.0, 184.0, 39.0, 541.0, 1264.0, 81.0, 595.0, 422.0, 1284.0, 534.0, 663.0, 5.0, 400.0, 385.0, 427.0, 1284.0, 102.0, 27.0, 732.0, 446.0, 821.0, 547.0, 639.0, 351.0, 191.0, 1096.0, 46.0, 648.0, 600.0, 390.0, 390.0, 329.0, 82.0, 733.0, 0.0, 1930.0, 0.0, 381.0, 472.0, 191.0]\n"
     ]
    }
   ],
   "source": [
    "#Repeat code as appropiate for each individual feature where the IRQ is required\n",
    "upper_quartile = np.percentile(df_journals['citation_count_sum'], 75)\n",
    "lower_quartile = np.percentile(df_journals['citation_count_sum'], 25)\n",
    "IQR = (upper_quartile - lower_quartile) \n",
    "quartileSet = (lower_quartile - IQR, upper_quartile + IQR)\n",
    "resultList = []\n",
    "for y in df_journals['citation_count_sum'].tolist():\n",
    "    if y >= quartileSet[0] and y <= quartileSet[1]:\n",
    "       resultList.append(y)\n",
    "    \n",
    "print(resultList)\n"
   ]
  },
  {
   "cell_type": "markdown",
   "metadata": {},
   "source": [
    "## Correlations: Multivariate statistics\n",
    "#### Try\n",
    "Use a correlation matrix for all features, plotting a scatter plot for each combination of numerical features in your dataset.  \n",
    "Hint: Use pairplot on df_journals[[\"citation_count_sum\", \"paper_count_sum\",\"avg_cites_per_paper\",\"proj_ai\"]]"
   ]
  },
  {
   "cell_type": "code",
   "execution_count": 56,
   "metadata": {},
   "outputs": [
    {
     "data": {
      "text/plain": [
       "<seaborn.axisgrid.PairGrid at 0x7ff7ceace780>"
      ]
     },
     "execution_count": 56,
     "metadata": {},
     "output_type": "execute_result"
    },
    {
     "data": {
      "image/png": "[encoded data removed]",
      "text/plain": [
       "<Figure size 720x720 with 20 Axes>"
      ]
     },
     "metadata": {
      "needs_background": "light"
     },
     "output_type": "display_data"
    }
   ],
   "source": [
    "sns.pairplot( data=df_journals[[\"citation_count_sum\", \"paper_count_sum\",\"avg_cites_per_paper\",\"proj_ai\"]])\n"
   ]
  },
  {
   "cell_type": "markdown",
   "metadata": {},
   "source": [
    "#### Is it broken?\n",
    "There is one highly correlated feature."
   ]
  },
  {
   "cell_type": "markdown",
   "metadata": {},
   "source": [
    "#### Learn\n",
    "There is a strong nonlinear correlation between proj_ai x avg_cites_per_paper.\n",
    "There is also some correlation between other variables here.\n",
    "But we need numbers to make a decision whether to remove some highly correlated feature.\n",
    "For this, a heat map with values is useful."
   ]
  },
  {
   "cell_type": "markdown",
   "metadata": {},
   "source": [
    ">### Question 6\n",
    ">##### Try\n",
    ">Use the `corr` function ([documentation](https://pandas.pydata.org/pandas-docs/stable/reference/api/pandas.DataFrame.corr.html?highlight=corr#pandas.DataFrame.corr)) in the df_journal dataframe to print the correlations.  \n",
    "\n",
    "Hint: df_journals.corr()"
   ]
  },
  {
   "cell_type": "code",
   "execution_count": 57,
   "metadata": {},
   "outputs": [
    {
     "data": {
      "text/html": [
       "<div>\n",
       "<style scoped>\n",
       "    .dataframe tbody tr th:only-of-type {\n",
       "        vertical-align: middle;\n",
       "    }\n",
       "\n",
       "    .dataframe tbody tr th {\n",
       "        vertical-align: top;\n",
       "    }\n",
       "\n",
       "    .dataframe thead th {\n",
       "        text-align: right;\n",
       "    }\n",
       "</style>\n",
       "<table border=\"1\" class=\"dataframe\">\n",
       "  <thead>\n",
       "    <tr style=\"text-align: right;\">\n",
       "      <th></th>\n",
       "      <th>citation_count_sum</th>\n",
       "      <th>paper_count_sum</th>\n",
       "      <th>avg_cites_per_paper</th>\n",
       "      <th>proj_ai</th>\n",
       "    </tr>\n",
       "  </thead>\n",
       "  <tbody>\n",
       "    <tr>\n",
       "      <th>citation_count_sum</th>\n",
       "      <td>1.000000</td>\n",
       "      <td>0.956838</td>\n",
       "      <td>0.240121</td>\n",
       "      <td>0.244323</td>\n",
       "    </tr>\n",
       "    <tr>\n",
       "      <th>paper_count_sum</th>\n",
       "      <td>0.956838</td>\n",
       "      <td>1.000000</td>\n",
       "      <td>0.107538</td>\n",
       "      <td>0.098672</td>\n",
       "    </tr>\n",
       "    <tr>\n",
       "      <th>avg_cites_per_paper</th>\n",
       "      <td>0.240121</td>\n",
       "      <td>0.107538</td>\n",
       "      <td>1.000000</td>\n",
       "      <td>0.987275</td>\n",
       "    </tr>\n",
       "    <tr>\n",
       "      <th>proj_ai</th>\n",
       "      <td>0.244323</td>\n",
       "      <td>0.098672</td>\n",
       "      <td>0.987275</td>\n",
       "      <td>1.000000</td>\n",
       "    </tr>\n",
       "  </tbody>\n",
       "</table>\n",
       "</div>"
      ],
      "text/plain": [
       "                     citation_count_sum  paper_count_sum  avg_cites_per_paper  \\\n",
       "citation_count_sum   1.000000            0.956838         0.240121              \n",
       "paper_count_sum      0.956838            1.000000         0.107538              \n",
       "avg_cites_per_paper  0.240121            0.107538         1.000000              \n",
       "proj_ai              0.244323            0.098672         0.987275              \n",
       "\n",
       "                      proj_ai  \n",
       "citation_count_sum   0.244323  \n",
       "paper_count_sum      0.098672  \n",
       "avg_cites_per_paper  0.987275  \n",
       "proj_ai              1.000000  "
      ]
     },
     "execution_count": 57,
     "metadata": {},
     "output_type": "execute_result"
    }
   ],
   "source": [
    "df_journals.corr()"
   ]
  },
  {
   "cell_type": "markdown",
   "metadata": {},
   "source": [
    "##### Learn\n",
    "Notice that the diagonal is always 1 (one), because it represents the variable against itself.\n",
    "\n",
    "##### Is it broken?\n",
    "The **proj_ai** and **avg_cites_per_paper** variables are highly correlated (over 99%). \n",
    "\n",
    "##### Fix\n",
    "Let's try removing one of them. You will remove the **proj_ai** feature from the dataset."
   ]
  },
  {
   "cell_type": "code",
   "execution_count": 58,
   "metadata": {},
   "outputs": [],
   "source": [
    "del df_journals[\"proj_ai\"]"
   ]
  },
  {
   "cell_type": "markdown",
   "metadata": {},
   "source": [
    "#### Learn\n",
    "Now, use another great tool, a `heatmap` ([documentation](https://pandas.pydata.org/pandas-docs/stable/reference/api/pandas.DataFrame.corr.html?highlight=corr#pandas.DataFrame.corr)), to confirm the correlation between the variables and the target, after removing the correlation.   \n",
    "\n",
    "Hint: corr = df_journals.corr()   \n",
    "Then creat heatmap using sns.heatmap on corr"
   ]
  },
  {
   "cell_type": "code",
   "execution_count": 60,
   "metadata": {},
   "outputs": [
    {
     "data": {
      "text/plain": [
       "<matplotlib.axes._subplots.AxesSubplot at 0x7ff7ce301438>"
      ]
     },
     "execution_count": 60,
     "metadata": {},
     "output_type": "execute_result"
    },
    {
     "data": {
      "image/png": "[encoded data removed]",
      "text/plain": [
       "<Figure size 432x288 with 2 Axes>"
      ]
     },
     "metadata": {
      "needs_background": "light"
     },
     "output_type": "display_data"
    }
   ],
   "source": [
    "corr = df_journals.corr()\n",
    "sns.heatmap(data=corr)"
   ]
  },
  {
   "cell_type": "markdown",
   "metadata": {},
   "source": [
    "## Conclusion\n",
    "\n",
    "In this exercise, you practiced different ways to know your data.\n",
    "\n",
    "You explored your data over several dimensions and views to bring your raw data to a state of processed data, ready to be used for your model.\n",
    "\n",
    "You needed to understand a short business scenario and corresponding dataset. You analyzed the data using descriptive statistics to better understand it.\n",
    "\n",
    "You used visualization tools, including box and whisker plots and histograms, to support this analysis and understand the distribution of your data. You applied multivariate statistics with the help of scatter plots to spot correlations between features.\n",
    "\n",
    "In **question 1**, you discovered the importance of a first glance at your data. You looked at how many features there were and how many samples. You looked at the first lines to see if anything caught your attention, such as missing values.\n",
    "\n",
    "In **question 2**, you learned and practiced how to decide whether to remove or impute missing values. In the case of imputation, you practiced how to handle numerical or categorical imputation.\n",
    "\n",
    "**Questions 3** gave you an understanding of basic statistics that you can apply to your data. You practiced plotting the distribution of features.\n",
    "\n",
    "For **question 4**, you practiced with another important plot for numerical features: the box and whisker plot. This is a great tool for spotting outliers. \n",
    "\n",
    "**Question 5** showed you an interesting guideline for removing outliers using percentiles. You were challenged to implement the algorithm.\n",
    "\n",
    "Finally, in **question 6** you learned and practiced using multivariate techniques, such as a correlation matrix and scatter plot, to spot correlations between features and how to deal with that."
   ]
  },
  {
   "cell_type": "markdown",
   "metadata": {},
   "source": [
    "### Good work!\n"
   ]
  }
 ],
 "metadata": {
  "kernelspec": {
   "display_name": "conda_python3",
   "language": "python",
   "name": "conda_python3"
  },
  "language_info": {
   "codemirror_mode": {
    "name": "ipython",
    "version": 3
   },
   "file_extension": ".py",
   "mimetype": "text/x-python",
   "name": "python",
   "nbconvert_exporter": "python",
   "pygments_lexer": "ipython3",
   "version": "3.6.10"
  }
 },
 "nbformat": 4,
 "nbformat_minor": 4
}
